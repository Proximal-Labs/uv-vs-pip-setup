{
 "cells": [
  {
   "cell_type": "markdown",
   "id": "dense-medicaid",
   "metadata": {
    "id": "dense-medicaid"
   },
   "source": [
    "# **Machine Learning Logistic Regression Model**\n",
    "\n",
    "\n",
    "---------------\n",
    "## **I. Problem Statement**\n",
    "\n",
    "### **Context**\n",
    "\n",
    "**A significant number of hotel bookings are called off due to cancellations or no-shows.** Typical reasons for cancellations include change of plans, scheduling conflicts, etc. This is often made easier by the option to do so free of charge or preferably at a low cost. This may be beneficial to hotel guests, but it is a less desirable and possibly revenue-diminishing factor for hotels to deal with. Such losses are particularly high on last-minute cancellations.\n",
    "\n",
    "The new technologies involving online booking channels have dramatically changed customers’ booking possibilities and behavior. This adds a further dimension to the challenge of how hotels handle cancellations, which are no longer limited to traditional booking and guest characteristics.\n",
    "\n",
    "This pattern of cancellations of bookings impacts a hotel on various fronts:\n",
    "1. **Loss of resources (revenue)** when the hotel cannot resell the room.\n",
    "2. **Additional costs of distribution channels** by increasing commissions or paying for publicity to help sell these rooms.\n",
    "3. **Lowering prices last minute**, so the hotel can resell a room, resulting in reducing the profit margin.\n",
    "4. **Human resources to make arrangements** for the guests.\n",
    "\n",
    "### **Objective**\n",
    "\n",
    "This increasing number of cancellations calls for a Machine Learning based solution that can help in predicting which booking is likely to be canceled. INN Hotels Group has a chain of hotels in Portugal - they are facing problems with this high number of booking cancellations and have reached out to your firm for data-driven solutions. You, as a Data Scientist, have to analyze the data provided to find which factors have a high influence on booking cancellations, build a predictive model that can predict which booking is going to be canceled in advance, and help in formulating profitable policies for cancellations and refunds.\n",
    "\n",
    "\n",
    "### **Data Description**\n",
    "\n",
    "The data contains the different attributes of customers' booking details. The detailed data dictionary is given below:\n",
    "\n",
    "\n",
    "**Data Dictionary**\n",
    "\n",
    "* **Booking_ID:** Unique identifier of each booking\n",
    "* **no_of_adults:** Number of adults\n",
    "* **no_of_children:** Number of children\n",
    "* **no_of_weekend_nights:** Number of weekend nights (Saturday or Sunday) the guest stayed or booked to stay at the hotel\n",
    "* **no_of_week_nights:** Number of weekday nights (Monday to Friday) the guest stayed or booked to stay at the hotel\n",
    "* **type_of_meal_plan:** Type of meal plan booked by the customer:\n",
    "    * Not Selected – No meal plan selected\n",
    "    * Meal Plan 1 – Breakfast\n",
    "    * Meal Plan 2 – Half board (breakfast and one other meal)\n",
    "    * Meal Plan 3 – Full board (breakfast, lunch, and dinner)\n",
    "* **required_car_parking_space:** Does the customer require a car parking space? (0 - No, 1- Yes)\n",
    "* **room_type_reserved:** Type of room reserved by the customer. The values are ciphered (encoded) by INN Hotels.\n",
    "* **lead_time:** Number of days between the date of booking and the arrival date\n",
    "* **arrival_year:** Year of arrival date\n",
    "* **arrival_month:** Month of arrival date\n",
    "* **arrival_date:** Date of the month\n",
    "* **market_segment_type:** Market segment designation.\n",
    "* **repeated_guest:** Is the customer a repeated guest? (0 - No, 1- Yes)\n",
    "* **no_of_previous_cancellations:** Number of previous bookings that were canceled by the customer prior to the current booking\n",
    "* **no_of_previous_bookings_not_canceled:** Number of previous bookings not canceled by the customer prior to the current booking\n",
    "* **avg_price_per_room:** Average price per day of the reservation; prices of the rooms are dynamic. (in euros)\n",
    "* **no_of_special_requests:** Total number of special requests made by the customer (e.g. high floor, view from the room, etc)\n",
    "* **booking_status:** Flag indicating if the booking was canceled or not."
   ]
  },
  {
   "cell_type": "markdown",
   "id": "tqfNqaJCQeEE",
   "metadata": {
    "id": "tqfNqaJCQeEE"
   },
   "source": [
    "## **II. Importing the libraries required**"
   ]
  },
  {
   "cell_type": "markdown",
   "id": "fantastic-rebel",
   "metadata": {
    "id": "fantastic-rebel"
   },
   "source": [
    "## **Loading the dataset**"
   ]
  },
  {
   "cell_type": "code",
   "execution_count": null,
   "id": "proper-calgary",
   "metadata": {
    "id": "proper-calgary",
    "scrolled": true
   },
   "outputs": [],
   "source": [
    "# Importing the basic libraries we will require for the project\n",
    "\n",
    "!pip install pandas\n",
    "!pip install numpy\n",
    "!pip install matplotlib\n",
    "!pip install seaborn\n",
    "!pip install scikit-learn\n",
    "\n",
    "# Code to ignore warnings from function usage\n",
    "import warnings;\n",
    "\n",
    "import pandas as pd\n",
    "import numpy as np\n",
    "import matplotlib.pyplot as plt\n",
    "import seaborn as sns\n",
    "\n",
    "# Importing the Machine Learning models we require from Scikit-Learn\n",
    "from sklearn.linear_model import LogisticRegression\n",
    "from sklearn import metrics\n",
    "from sklearn.model_selection import train_test_split\n",
    "from sklearn.metrics import confusion_matrix, classification_report, precision_recall_curve\n",
    "\n",
    "warnings.filterwarnings('ignore')\n",
    "sns.set()\n",
    "sns.set_theme(style=\"whitegrid\")\n"
   ]
  },
  {
   "cell_type": "code",
   "execution_count": null,
   "id": "precious-leonard",
   "metadata": {
    "id": "precious-leonard"
   },
   "outputs": [],
   "source": [
    "data = pd.read_csv(\"../data/reservations-db.csv\")"
   ]
  },
  {
   "cell_type": "code",
   "execution_count": null,
   "id": "geographic-gender",
   "metadata": {
    "id": "geographic-gender"
   },
   "outputs": [],
   "source": [
    "# Copying data to another variable to avoid any changes to original data\n",
    "reservations_db = data.copy()"
   ]
  },
  {
   "cell_type": "markdown",
   "id": "fD7H-dajQqyQ",
   "metadata": {
    "id": "fD7H-dajQqyQ"
   },
   "source": [
    "## **III. Overview of the dataset**"
   ]
  },
  {
   "cell_type": "markdown",
   "id": "convinced-blackberry",
   "metadata": {
    "id": "convinced-blackberry"
   },
   "source": [
    "### **View the first and last 5 rows of the dataset**\n",
    "\n",
    "Let's **view the first few rows and last few rows** of the dataset in order to understand its structure a little better.\n",
    "\n",
    "We will use the head() and tail() methods from Pandas to do this."
   ]
  },
  {
   "cell_type": "code",
   "execution_count": null,
   "id": "tested-adjustment",
   "metadata": {
    "id": "tested-adjustment"
   },
   "outputs": [],
   "source": [
    "reservations_db.head()"
   ]
  },
  {
   "cell_type": "code",
   "execution_count": null,
   "id": "demonstrated-charger",
   "metadata": {
    "id": "demonstrated-charger"
   },
   "outputs": [],
   "source": [
    "reservations_db.tail()"
   ]
  },
  {
   "cell_type": "markdown",
   "id": "prepared-clause",
   "metadata": {
    "id": "prepared-clause"
   },
   "source": [
    "### **Understand the shape of the dataset**"
   ]
  },
  {
   "cell_type": "code",
   "execution_count": null,
   "id": "likely-scene",
   "metadata": {
    "id": "likely-scene"
   },
   "outputs": [],
   "source": [
    "reservations_db.shape"
   ]
  },
  {
   "cell_type": "markdown",
   "id": "sacred-language",
   "metadata": {
    "id": "sacred-language"
   },
   "source": [
    "* The dataset has 36275 rows and 19 columns. "
   ]
  },
  {
   "cell_type": "markdown",
   "id": "creative-warner",
   "metadata": {
    "id": "creative-warner"
   },
   "source": [
    "### **Check the data types of the columns for the dataset**"
   ]
  },
  {
   "cell_type": "code",
   "execution_count": null,
   "id": "expanded-technique",
   "metadata": {
    "id": "expanded-technique"
   },
   "outputs": [],
   "source": [
    "reservations_db.info()"
   ]
  },
  {
   "cell_type": "markdown",
   "id": "august-hopkins",
   "metadata": {
    "id": "august-hopkins"
   },
   "source": [
    "* `Booking_ID`, `type_of_meal_plan`, `room_type_reserved`, `market_segment_type`, and `booking_status` are of object type while rest columns are numeric in nature.\n",
    "\n",
    "* There are no null values in the dataset."
   ]
  },
  {
   "cell_type": "markdown",
   "id": "JrjZHnfFQ4fh",
   "metadata": {
    "id": "JrjZHnfFQ4fh"
   },
   "source": [
    "### **Dropping duplicate values**"
   ]
  },
  {
   "cell_type": "code",
   "execution_count": null,
   "id": "greenhouse-vertical",
   "metadata": {
    "id": "greenhouse-vertical"
   },
   "outputs": [],
   "source": [
    "# checking for duplicate values\n",
    "reservations_db.duplicated().sum()"
   ]
  },
  {
   "cell_type": "markdown",
   "id": "adjustable-programmer",
   "metadata": {
    "id": "adjustable-programmer"
   },
   "source": [
    "- There are **no duplicate values** in the data."
   ]
  },
  {
   "cell_type": "markdown",
   "id": "1-CD9xCkQ-bu",
   "metadata": {
    "id": "1-CD9xCkQ-bu"
   },
   "source": [
    "### **Dropping the unique values column**"
   ]
  },
  {
   "cell_type": "markdown",
   "id": "928c50b6",
   "metadata": {
    "id": "928c50b6"
   },
   "source": [
    "**Let's drop the Booking_ID column first before we proceed forward**, as a column with unique values will have almost no predictive power for the Machine Learning problem at hand."
   ]
  },
  {
   "cell_type": "code",
   "execution_count": null,
   "id": "referenced-architect",
   "metadata": {
    "id": "referenced-architect"
   },
   "outputs": [],
   "source": [
    "reservations_db = reservations_db.drop([\"Booking_ID\"], axis=1)"
   ]
  },
  {
   "cell_type": "code",
   "execution_count": null,
   "id": "40b248aa",
   "metadata": {
    "id": "40b248aa"
   },
   "outputs": [],
   "source": [
    "reservations_db.head()"
   ]
  },
  {
   "cell_type": "markdown",
   "id": "PT4JpT2NRKBB",
   "metadata": {
    "id": "PT4JpT2NRKBB"
   },
   "source": [
    "### **1: Check the summary statistics of the dataset and write your observations**\n",
    "\n"
   ]
  },
  {
   "cell_type": "markdown",
   "id": "seeing-newman",
   "metadata": {
    "id": "seeing-newman"
   },
   "source": [
    "**Let's check the statistical summary of the data.**"
   ]
  },
  {
   "cell_type": "code",
   "execution_count": null,
   "id": "backed-solution",
   "metadata": {
    "id": "backed-solution"
   },
   "outputs": [],
   "source": [
    "reservations_db.describe() "
   ]
  },
  {
   "cell_type": "markdown",
   "id": "personal-detector",
   "metadata": {
    "id": "personal-detector"
   },
   "source": [
    "**Observations:**\n",
    "\n",
    "- Guests most often arrives as individual or couples. few families.\n",
    "- appear to be business travels as there are very few children other than what appears to an isolated case\n",
    "- guests book short stays; typically around 2 day. no_of_weekend_nights appears to have some bad data (max==7 is impossible)\n",
    "- ditto with no_of_week_nights. max==17 is impossible.\n",
    "- most guests do arrive with a car\n",
    "- guests appear to most book reservations just ahead of their arrival date. the bottom 25 percentile cover nearly 20% of reservation, and more than half are covered with the next 2 months. there's wide dispersion overall though, so anywhere from just a few days in advance to up to 6 months.\n",
    "- our data set covers around 18 months\n",
    "- most guests are visiting for the first time. very few repeat guests\n",
    "- no_of_previous_cancellations might have some bad data. no_of_previous_cancellations==13 seems unusual.\n",
    "- no_of_previous_bookings_not_canceled also might have some bad data\n",
    "- avg_price_per_room suggests that INN Hotels offer basic lodging given the avg price of 103 with std dev of only 35\n",
    "- no_of_special_requests looks interesting. the upper 75 percentile might offer useful information.\n"
   ]
  },
  {
   "cell_type": "markdown",
   "id": "realistic-mortgage",
   "metadata": {
    "id": "realistic-mortgage"
   },
   "source": [
    "## **IV. Exploratory Data Analysis**"
   ]
  },
  {
   "cell_type": "markdown",
   "id": "arbitrary-intelligence",
   "metadata": {
    "id": "arbitrary-intelligence"
   },
   "source": [
    "### **2: Univariate Analysis**"
   ]
  },
  {
   "cell_type": "markdown",
   "id": "mieBnCRTbgT-",
   "metadata": {
    "id": "mieBnCRTbgT-"
   },
   "source": [
    "Let's explore these variables in some more depth by observing their distributions."
   ]
  },
  {
   "cell_type": "markdown",
   "id": "X76cVRmTb-Wb",
   "metadata": {
    "id": "X76cVRmTb-Wb"
   },
   "source": [
    "We will first define a **hist_box() function** that provides both a boxplot and a histogram in the same visual, with which we can perform univariate analysis on the columns of this dataset."
   ]
  },
  {
   "cell_type": "code",
   "execution_count": null,
   "id": "9k4V_XXCb495",
   "metadata": {
    "id": "9k4V_XXCb495"
   },
   "outputs": [],
   "source": [
    "# Defining the hist_box() function\n",
    "def hist_box(data,col):\n",
    "  kwargs = {\n",
    "      'height_ratios': (0.15, 0.85)\n",
    "      }\n",
    "  f, (ax_box, ax_hist) = plt.subplots(2, sharex=True, gridspec_kw=kwargs, figsize=(12,6))\n",
    "  # Adding a graph in each part\n",
    "  sns.boxplot(data[col], ax=ax_box, showmeans=True)\n",
    "  sns.distplot(data[col], ax=ax_hist)\n",
    "\n",
    "  ax_box.set_title(col + ' Histogram')\n",
    "  ax_box.set_xlabel(col)\n",
    "\n",
    "  plt.show()"
   ]
  },
  {
   "cell_type": "markdown",
   "id": "GfcXGfchXHLV",
   "metadata": {
    "id": "GfcXGfchXHLV"
   },
   "source": [
    "#### **2.1:  Plot the histogram and box plot for the variable `Lead Time` using the hist_box function provided and write your insights.**"
   ]
  },
  {
   "cell_type": "code",
   "execution_count": null,
   "id": "italian-imagination",
   "metadata": {
    "id": "italian-imagination"
   },
   "outputs": [],
   "source": [
    "hist_box(reservations_db, \"lead_time\") "
   ]
  },
  {
   "cell_type": "markdown",
   "id": "racial-pointer",
   "metadata": {
    "id": "racial-pointer"
   },
   "source": [
    "**Observations:**\n",
    "\n",
    "Most guests are booking reservations just ahead of their arrival date, with the remainder being kind of normally distributed. Nearly all reservations are made within around six months of arrival, and virtually no one books more than 1 year in advance."
   ]
  },
  {
   "cell_type": "markdown",
   "id": "UklkmdoEWPD-",
   "metadata": {
    "id": "UklkmdoEWPD-"
   },
   "source": [
    "#### **2.2:  Plot the histogram and box plot for the variable `Average Price per Room` using the hist_box function provided and write your insights.**"
   ]
  },
  {
   "cell_type": "code",
   "execution_count": null,
   "id": "liable-guess",
   "metadata": {
    "id": "liable-guess"
   },
   "outputs": [],
   "source": [
    "hist_box(reservations_db, \"avg_price_per_room\")"
   ]
  },
  {
   "cell_type": "markdown",
   "id": "little-metadata",
   "metadata": {
    "id": "little-metadata"
   },
   "source": [
    "- Management comps a lot of rooms (the bump at $0)\n",
    "- most rooms rates range from around 75 euros to 125 euros\n",
    "- there are few rate options below 75 euros\n",
    "- INN Hotels offers some REALLY expensive rooms; as high as 300 euros in extreme cases. there are few takers though.\n",
    "- there appears to be a \"most guests prefer\" rate option given the spike in the middle of around 100 euros"
   ]
  },
  {
   "cell_type": "markdown",
   "id": "KP4f-yCq72Xl",
   "metadata": {
    "id": "KP4f-yCq72Xl"
   },
   "source": [
    "**Interestingly some rooms have a price equal to 0. Let's check them.**"
   ]
  },
  {
   "cell_type": "code",
   "execution_count": null,
   "id": "southern-organic",
   "metadata": {
    "id": "southern-organic"
   },
   "outputs": [],
   "source": [
    "reservations_db[reservations_db[\"avg_price_per_room\"] == 0]"
   ]
  },
  {
   "cell_type": "markdown",
   "id": "voluntary-diagnosis",
   "metadata": {
    "id": "voluntary-diagnosis"
   },
   "source": [
    "- There are quite a few hotel rooms which have a price equal to 0.\n",
    "- In the market segment column, it looks like many values are complementary."
   ]
  },
  {
   "cell_type": "code",
   "execution_count": null,
   "id": "written-stone",
   "metadata": {
    "id": "written-stone"
   },
   "outputs": [],
   "source": [
    "reservations_db.loc[reservations_db[\"avg_price_per_room\"] == 0, \"market_segment_type\"].value_counts()"
   ]
  },
  {
   "cell_type": "markdown",
   "id": "nutritional-gamma",
   "metadata": {
    "id": "nutritional-gamma"
   },
   "source": [
    "* It makes sense that most values with room prices equal to 0 are the rooms given as complimentary service from the hotel.\n",
    "* The rooms booked online must be a part of some promotional campaign done by the hotel."
   ]
  },
  {
   "cell_type": "code",
   "execution_count": null,
   "id": "potential-klein",
   "metadata": {
    "id": "potential-klein"
   },
   "outputs": [],
   "source": [
    "# Calculating the 25th quantile\n",
    "Q1 = data[\"avg_price_per_room\"].quantile(0.25)\n",
    "\n",
    "# Calculating the 75th quantile\n",
    "Q3 = data[\"avg_price_per_room\"].quantile(0.75)\n",
    "\n",
    "# Calculating IQR\n",
    "IQR = Q3 - Q1\n",
    "\n",
    "# Calculating value of upper whisker\n",
    "Upper_Whisker = Q3 + 1.5 * IQR\n",
    "Upper_Whisker"
   ]
  },
  {
   "cell_type": "code",
   "execution_count": null,
   "id": "assured-holder",
   "metadata": {
    "id": "assured-holder"
   },
   "outputs": [],
   "source": [
    "# assigning the outliers the value of upper whisker\n",
    "reservations_db.loc[reservations_db[\"avg_price_per_room\"] >= 500, \"avg_price_per_room\"] = Upper_Whisker"
   ]
  },
  {
   "cell_type": "markdown",
   "id": "skGK7OuPumzs",
   "metadata": {
    "id": "skGK7OuPumzs"
   },
   "source": [
    "#### **Let's understand the distribution of the categorical variables**"
   ]
  },
  {
   "cell_type": "markdown",
   "id": "7dvPDVs3YQV-",
   "metadata": {
    "id": "7dvPDVs3YQV-"
   },
   "source": [
    "**Number of Children**"
   ]
  },
  {
   "cell_type": "code",
   "execution_count": null,
   "id": "finite-kingston",
   "metadata": {
    "id": "finite-kingston"
   },
   "outputs": [],
   "source": [
    "sns.histplot(data=reservations_db['no_of_children'])\n",
    "plt.show()"
   ]
  },
  {
   "cell_type": "code",
   "execution_count": null,
   "id": "Rd-seHBO-rtT",
   "metadata": {
    "id": "Rd-seHBO-rtT"
   },
   "outputs": [],
   "source": [
    "reservations_db['no_of_children'].value_counts(normalize=True)"
   ]
  },
  {
   "cell_type": "markdown",
   "id": "animated-three",
   "metadata": {
    "id": "animated-three"
   },
   "source": [
    "* Customers were not travelling with children in 93% of cases.\n",
    "* There are some values in the data where the number of children is 9 or 10, which is highly unlikely. \n",
    "* We will replace these values with the maximum value of 3 children."
   ]
  },
  {
   "cell_type": "code",
   "execution_count": null,
   "id": "necessary-employee",
   "metadata": {
    "id": "necessary-employee"
   },
   "outputs": [],
   "source": [
    "# replacing 9, and 10 children with 3\n",
    "reservations_db[\"no_of_children\"] = reservations_db[\"no_of_children\"].replace([9, 10], 3)"
   ]
  },
  {
   "cell_type": "markdown",
   "id": "thick-coordination",
   "metadata": {
    "id": "thick-coordination"
   },
   "source": [
    "**Arrival Month**"
   ]
  },
  {
   "cell_type": "code",
   "execution_count": null,
   "id": "expensive-deposit",
   "metadata": {
    "id": "expensive-deposit"
   },
   "outputs": [],
   "source": [
    "sns.histplot(reservations_db[\"arrival_month\"])\n",
    "plt.show()"
   ]
  },
  {
   "cell_type": "code",
   "execution_count": null,
   "id": "2DpFp56Tvo3I",
   "metadata": {
    "id": "2DpFp56Tvo3I"
   },
   "outputs": [],
   "source": [
    "reservations_db['arrival_month'].value_counts(normalize=True)"
   ]
  },
  {
   "cell_type": "markdown",
   "id": "affected-right",
   "metadata": {
    "id": "affected-right"
   },
   "source": [
    "* October is the busiest month for hotel arrivals followed by September and August. **Over 35% of all bookings**, as we see in the above table, were for one of these three months.\n",
    "* Around 14.7% of the bookings were made for an October arrival."
   ]
  },
  {
   "cell_type": "markdown",
   "id": "dramatic-karaoke",
   "metadata": {
    "id": "dramatic-karaoke"
   },
   "source": [
    "**Booking Status**"
   ]
  },
  {
   "cell_type": "code",
   "execution_count": null,
   "id": "happy-collins",
   "metadata": {
    "id": "happy-collins"
   },
   "outputs": [],
   "source": [
    "sns.histplot(data = reservations_db[\"booking_status\"])\n",
    "plt.show()"
   ]
  },
  {
   "cell_type": "code",
   "execution_count": null,
   "id": "wOeK2StJzykk",
   "metadata": {
    "id": "wOeK2StJzykk"
   },
   "outputs": [],
   "source": [
    "reservations_db['booking_status'].value_counts(normalize=True)"
   ]
  },
  {
   "cell_type": "markdown",
   "id": "quantitative-fetish",
   "metadata": {
    "id": "quantitative-fetish"
   },
   "source": [
    "* 32.8% of the bookings were canceled by the customers."
   ]
  },
  {
   "cell_type": "code",
   "execution_count": null,
   "id": "c2f50049",
   "metadata": {},
   "outputs": [],
   "source": [
    "reservations_db[\"booking_status\"] = reservations_db[\"booking_status\"].apply(\n",
    "    lambda x: 1 if x == \"Canceled\" else 0\n",
    ")"
   ]
  },
  {
   "cell_type": "markdown",
   "id": "arranged-courtesy",
   "metadata": {
    "id": "arranged-courtesy"
   },
   "source": [
    "### **3: Bivariate Analysis**"
   ]
  },
  {
   "cell_type": "markdown",
   "id": "D4vIqPb9aaZW",
   "metadata": {
    "id": "D4vIqPb9aaZW"
   },
   "source": [
    "#### **3.1: Find and visualize the correlation matrix using a heatmap.**\n",
    "\n"
   ]
  },
  {
   "cell_type": "code",
   "execution_count": null,
   "id": "official-wyoming",
   "metadata": {
    "id": "official-wyoming"
   },
   "outputs": [],
   "source": [
    "cols_list = reservations_db.select_dtypes(include=np.number).columns.tolist()\n",
    "\n",
    "plt.figure(figsize=(12, 7))\n",
    "sns.heatmap(reservations_db.corr())\n",
    "plt.show()"
   ]
  },
  {
   "cell_type": "markdown",
   "id": "brave-hamilton",
   "metadata": {
    "id": "brave-hamilton"
   },
   "source": [
    "**Observations:**\n",
    "\n",
    "relationships of primary interest:\n",
    "- no_of_previous_bookings_not_canceled vs repeated_guest\n",
    "- no_of_previous_bookings_not_canceled vs no_of_previous_cancellations\n",
    "- booking_status vs lead_time\n",
    "\n",
    "relationships of secondary interest:\n",
    "- avg_price_per_room vs no_of_adults\n",
    "- avg_price_per_room vs no_of_children\n",
    "- no_of_previous_cancellations vs repeated_guest\n"
   ]
  },
  {
   "cell_type": "markdown",
   "id": "quick-works",
   "metadata": {
    "id": "quick-works"
   },
   "source": [
    "**Hotel rates are dynamic and change according to demand and customer demographics. Let's see how prices vary across different market segments**"
   ]
  },
  {
   "cell_type": "code",
   "execution_count": null,
   "id": "animal-depth",
   "metadata": {
    "id": "animal-depth"
   },
   "outputs": [],
   "source": [
    "plt.figure(figsize=(10, 6))\n",
    "sns.boxplot(\n",
    "    data=reservations_db, x=\"market_segment_type\", y=\"avg_price_per_room\", palette=\"gist_rainbow\"\n",
    ")\n",
    "plt.show()"
   ]
  },
  {
   "cell_type": "markdown",
   "id": "advised-community",
   "metadata": {
    "id": "advised-community"
   },
   "source": [
    "* Rooms booked online have high variations in prices.\n",
    "* The offline and corporate room prices are almost similar.\n",
    "* Complementary market segment gets the rooms at very low prices, which makes sense."
   ]
  },
  {
   "cell_type": "markdown",
   "id": "FJhhg4y4i3wO",
   "metadata": {
    "id": "FJhhg4y4i3wO"
   },
   "source": [
    "We will define a **stacked barplot()** function to help analyse how the target variable varies across predictor categories."
   ]
  },
  {
   "cell_type": "code",
   "execution_count": null,
   "id": "GjDZRQMWiCEs",
   "metadata": {
    "id": "GjDZRQMWiCEs"
   },
   "outputs": [],
   "source": [
    "# Defining the stacked_barplot() function\n",
    "def stacked_barplot(data,predictor,target,figsize=(10,6)):\n",
    "  (pd.crosstab(data[predictor],reservations_db[target],normalize='index')*100).plot(kind='bar',figsize=figsize,stacked=True)\n",
    "  plt.legend(loc=\"lower right\")\n",
    "  plt.ylabel('Percentage Cancellations %')"
   ]
  },
  {
   "cell_type": "markdown",
   "id": "75988GXzuEub",
   "metadata": {
    "id": "75988GXzuEub"
   },
   "source": [
    "#### **3.2: Plot the stacked barplot for the variable `Market Segment Type` against the target variable `Booking Status` using the stacked_barplot  function provided and write your insights.**"
   ]
  },
  {
   "cell_type": "code",
   "execution_count": null,
   "id": "aMUKgxiFryyN",
   "metadata": {
    "id": "aMUKgxiFryyN"
   },
   "outputs": [],
   "source": [
    "stacked_barplot(reservations_db, \"market_segment_type\", \"booking_status\")"
   ]
  },
  {
   "cell_type": "markdown",
   "id": "IpvdhoHSuhrz",
   "metadata": {
    "id": "IpvdhoHSuhrz"
   },
   "source": [
    "**Observations:**\n",
    "- online reservations offer the most potential for improvement, with a 38%ish percent cancellation rate\n",
    "- Aviation and offline are tied at around 35%, but aviation sounds like a category where the guests are not in control of their schedules, and so the cancellations might not be unavoidable.\n",
    "- corporate might not be a worthwhile effort given that there are few cancellations.\n",
    "- no cancellations for Complimentary rooms. lets disregard hereon."
   ]
  },
  {
   "cell_type": "markdown",
   "id": "gUldUCUYu3Qb",
   "metadata": {
    "id": "gUldUCUYu3Qb"
   },
   "source": [
    "#### **3.3: Plot the stacked barplot for the variable `Repeated Guest` against the target variable `Booking Status` using the stacked_barplot  function provided and write your insights.**\n",
    "\n",
    "Repeating guests are the guests who stay in the hotel often and are important to brand equity."
   ]
  },
  {
   "cell_type": "code",
   "execution_count": null,
   "id": "L2AteH8ru-Lm",
   "metadata": {
    "id": "L2AteH8ru-Lm"
   },
   "outputs": [],
   "source": [
    "stacked_barplot(reservations_db, \"repeated_guest\", \"booking_status\")"
   ]
  },
  {
   "cell_type": "markdown",
   "id": "nmrkaaZPvRGr",
   "metadata": {
    "id": "nmrkaaZPvRGr"
   },
   "source": [
    "**Observations:**\n",
    "- Repeat guests almost never cancel. we can remove them from consideration\n",
    "- nonrepeat guests cancel nearly 40% of the time.\n"
   ]
  },
  {
   "cell_type": "markdown",
   "id": "WMJ96mlkvhR8",
   "metadata": {
    "id": "WMJ96mlkvhR8"
   },
   "source": [
    "**Let's analyze the customer who stayed for at least a day at the hotel.**"
   ]
  },
  {
   "cell_type": "code",
   "execution_count": null,
   "id": "j0UdS10Wvfqd",
   "metadata": {
    "id": "j0UdS10Wvfqd"
   },
   "outputs": [],
   "source": [
    "stay_data = reservations_db[(reservations_db[\"no_of_week_nights\"] > 0) & (reservations_db[\"no_of_weekend_nights\"] > 0)]\n",
    "stay_data[\"total_days\"] = (stay_data[\"no_of_week_nights\"] + stay_data[\"no_of_weekend_nights\"])\n",
    "\n",
    "stacked_barplot(stay_data, \"total_days\", \"booking_status\",figsize=(15,6))"
   ]
  },
  {
   "cell_type": "markdown",
   "id": "-aDjNRtfvgNV",
   "metadata": {
    "id": "-aDjNRtfvgNV"
   },
   "source": [
    "* The general trend is that the chances of cancellation increase as the number of days the customer planned to stay at the hotel increases."
   ]
  },
  {
   "cell_type": "markdown",
   "id": "tired-bridges",
   "metadata": {
    "id": "tired-bridges"
   },
   "source": [
    "**As hotel room prices are dynamic, Let's see how the prices vary across different months**"
   ]
  },
  {
   "cell_type": "code",
   "execution_count": null,
   "id": "atomic-locator",
   "metadata": {
    "id": "atomic-locator"
   },
   "outputs": [],
   "source": [
    "plt.figure(figsize=(10, 5))\n",
    "sns.lineplot(y=reservations_db[\"avg_price_per_room\"], x=reservations_db[\"arrival_month\"], ci=None)\n",
    "plt.show()"
   ]
  },
  {
   "cell_type": "markdown",
   "id": "incorporated-northern",
   "metadata": {
    "id": "incorporated-northern"
   },
   "source": [
    "* The price of rooms is highest in May to September - around 115 euros per room."
   ]
  },
  {
   "cell_type": "markdown",
   "id": "pleased-chicken",
   "metadata": {
    "id": "pleased-chicken"
   },
   "source": [
    "## **V. Data Preparation for Modeling**\n",
    "\n",
    "- We want to predict which bookings will be canceled.\n",
    "- Before we proceed to build a model, we'll have to encode categorical features.\n",
    "- We'll split the data into train and test to be able to evaluate the model that we build on the train data."
   ]
  },
  {
   "cell_type": "markdown",
   "id": "Q1yU3LeM5p73",
   "metadata": {
    "id": "Q1yU3LeM5p73"
   },
   "source": [
    "**Separating the independent variables (X) and the dependent variable (Y)**"
   ]
  },
  {
   "cell_type": "code",
   "execution_count": null,
   "id": "durable-allergy",
   "metadata": {
    "id": "durable-allergy"
   },
   "outputs": [],
   "source": [
    "X = reservations_db.drop([\"booking_status\"], axis=1)\n",
    "Y = reservations_db[\"booking_status\"]\n",
    "\n",
    "X = pd.get_dummies(X, drop_first=True) # Encoding the Categorical features"
   ]
  },
  {
   "cell_type": "markdown",
   "id": "ugL1fDmu5sU-",
   "metadata": {
    "id": "ugL1fDmu5sU-"
   },
   "source": [
    "**Splitting the data into a 70% train and 30% test set**\n",
    "\n",
    "Some classification problems can exhibit a large imbalance in the distribution of the target classes: for instance there could be several times more negative samples than positive samples. In such cases it is recommended to use the **stratified sampling** technique to ensure that relative class frequencies are approximately preserved in each train and validation fold."
   ]
  },
  {
   "cell_type": "code",
   "execution_count": null,
   "id": "Xve9js0S5xPV",
   "metadata": {
    "id": "Xve9js0S5xPV"
   },
   "outputs": [],
   "source": [
    "# Splitting data in train and test sets\n",
    "X_train, X_test, y_train, y_test = train_test_split(X, Y, test_size=0.30,stratify=Y, random_state=1)"
   ]
  },
  {
   "cell_type": "code",
   "execution_count": null,
   "id": "ecological-principal",
   "metadata": {
    "id": "ecological-principal"
   },
   "outputs": [],
   "source": [
    "print(\"Shape of Training set : \", X_train.shape)\n",
    "print(\"Shape of test set : \", X_test.shape)\n",
    "print(\"Percentage of classes in training set:\")\n",
    "print(y_train.value_counts(normalize=True))\n",
    "print(\"Percentage of classes in test set:\")\n",
    "print(y_test.value_counts(normalize=True))"
   ]
  },
  {
   "cell_type": "markdown",
   "id": "cultural-engagement",
   "metadata": {
    "id": "cultural-engagement"
   },
   "source": [
    "## **VI. Model Evaluation Criterion**\n",
    "\n",
    "#### **Model can make wrong predictions as:**\n",
    "\n",
    "1. Predicting a customer will not cancel their booking but in reality, the customer will cancel their booking.\n",
    "2. Predicting a customer will cancel their booking but in reality, the customer will not cancel their booking. \n",
    "\n",
    "#### **Which case is more important?** \n",
    "\n",
    "Both the cases are important as:\n",
    "\n",
    "* If we predict that a booking will not be canceled and the booking gets canceled then the hotel will lose resources and will have to bear additional costs of distribution channels.\n",
    "\n",
    "* If we predict that a booking will get canceled and the booking doesn't get canceled the hotel might not be able to provide satisfactory services to the customer by assuming that this booking will be canceled. This might damage brand equity. \n",
    "\n",
    "\n",
    "\n",
    "#### **How to reduce the losses?**\n",
    "\n",
    "* The hotel would want the `F1 Score` to be maximized, the greater the F1  score, the higher the chances of minimizing False Negatives and False Positives. "
   ]
  },
  {
   "cell_type": "markdown",
   "id": "TIvULwEQ6NJO",
   "metadata": {
    "id": "TIvULwEQ6NJO"
   },
   "source": [
    "**Also, let's create a function to calculate and print the classification report and confusion matrix so that we don't have to rewrite the same code repeatedly for each model.**"
   ]
  },
  {
   "cell_type": "code",
   "execution_count": null,
   "id": "sx5AmqRM3Cxy",
   "metadata": {
    "id": "sx5AmqRM3Cxy"
   },
   "outputs": [],
   "source": [
    "# Creating metric function \n",
    "def metrics_score(actual, predicted):\n",
    "    print(classification_report(actual, predicted))\n",
    "\n",
    "    cm = confusion_matrix(actual, predicted)\n",
    "    plt.figure(figsize=(8,5))\n",
    "    \n",
    "    sns.heatmap(cm, annot=True,  fmt='.2f', xticklabels=['Not Cancelled', 'Cancelled'], yticklabels=['Not Cancelled', 'Cancelled'])\n",
    "    plt.ylabel('Actual')\n",
    "    plt.xlabel('Predicted')\n",
    "    plt.show()"
   ]
  },
  {
   "cell_type": "markdown",
   "id": "V6r7bPlp8W3E",
   "metadata": {
    "id": "V6r7bPlp8W3E"
   },
   "source": [
    "## **VII. Building the model**"
   ]
  },
  {
   "cell_type": "markdown",
   "id": "opposed-glance",
   "metadata": {
    "id": "opposed-glance"
   },
   "source": [
    "### **4: Logistic Regression**"
   ]
  },
  {
   "cell_type": "markdown",
   "id": "bT_PaZ94M5hb",
   "metadata": {
    "id": "bT_PaZ94M5hb"
   },
   "source": [
    "#### **4.1: Build a Logistic Regression model (Use the sklearn library)**"
   ]
  },
  {
   "cell_type": "code",
   "execution_count": null,
   "id": "nominated-tumor",
   "metadata": {
    "id": "nominated-tumor"
   },
   "outputs": [],
   "source": [
    "# Fitting logistic regression model\n",
    "lg=LogisticRegression()\n",
    "lg.fit(X_train, y_train)"
   ]
  },
  {
   "cell_type": "markdown",
   "id": "KY_E1udCOCcN",
   "metadata": {
    "id": "KY_E1udCOCcN"
   },
   "source": [
    "#### **4.2: Check the performance of the model on train and test data**"
   ]
  },
  {
   "cell_type": "code",
   "execution_count": null,
   "id": "generous-investing",
   "metadata": {
    "id": "generous-investing"
   },
   "outputs": [],
   "source": [
    "# Checking the performance on the training data\n",
    "y_pred_train = lg.predict(X_train)\n",
    "metrics_score(y_train, y_pred_train)"
   ]
  },
  {
   "cell_type": "markdown",
   "id": "52aOuAUFPJBL",
   "metadata": {
    "id": "52aOuAUFPJBL"
   },
   "source": [
    "**Observations:**\n",
    "- True Negative (Actual=0, Predicted=0): Model predicts that a guest would not cancel and the guest does not cancel.\n",
    "- False Positive (Actual=0, Predicted=1): Model predicts that a guest would cancel but the guest does not cancel.\n",
    "- False Negative (Actual=1, Predicted=0): Model predicts that a guest would not cancel but the guest cancels.\n",
    "- True Positive (Actual=1, Predicted=1): Model predicts that a guest would cancel and the guest actually cancels.\n",
    "\n",
    "with an overall F1 (accuracy score) of 0.80 the model is good but not great."
   ]
  },
  {
   "cell_type": "markdown",
   "id": "ycKHN5ZGWruu",
   "metadata": {
    "id": "ycKHN5ZGWruu"
   },
   "source": [
    "Let's check the performance on the test set"
   ]
  },
  {
   "cell_type": "code",
   "execution_count": null,
   "id": "_hbaUbSr6g6d",
   "metadata": {
    "id": "_hbaUbSr6g6d"
   },
   "outputs": [],
   "source": [
    "# Checking the performance on the test dataset\n",
    "y_pred_test = lg.predict(X_test)\n",
    "metrics_score(y_test, y_pred_test)"
   ]
  },
  {
   "cell_type": "markdown",
   "id": "sBMbUH7DPKKT",
   "metadata": {
    "id": "sBMbUH7DPKKT"
   },
   "source": [
    "**Observations:**\n",
    "- **We are getting an accuracy of around 80%** on train and test dataset.\n",
    "- However, **the recall for this model is only around 57% for class 1 on train and 66% on test (see below).**\n",
    "- As the recall is low, **this model will not perform well** in differentiating out those guests who have a high chance of cancelling their reservation, meaning it will eventually not help in reducing the cancellation rate. \n",
    "- As we can see from the Confusion Matrix, **this model does a mediocre job of identifying the guests who are at risk of cancellation.**"
   ]
  },
  {
   "cell_type": "markdown",
   "id": "heated-intersection",
   "metadata": {
    "id": "heated-intersection"
   },
   "source": [
    "\n",
    "#### **4.3: Find the optimal threshold for the model using the Precision-Recall Curve.**\n",
    "\n",
    "Precision-Recall curves summarize the trade-off between the true positive rate and the positive predictive value for a predictive model using different probability thresholds.\n",
    "\n",
    "Let's use the Precision-Recall curve and see if we can find a **better threshold.**\n"
   ]
  },
  {
   "cell_type": "code",
   "execution_count": null,
   "id": "acute-newark",
   "metadata": {
    "id": "acute-newark"
   },
   "outputs": [],
   "source": [
    "# Predict_proba gives the probability of each observation belonging to each class\n",
    "y_scores_lg=lg.predict_proba(X_train)\n",
    "\n",
    "precisions_lg, recalls_lg, thresholds_lg = precision_recall_curve(y_train, y_scores_lg[:,1])\n",
    "\n",
    "\n",
    "# Plot values of precisions, recalls, and thresholds\n",
    "plt.figure(figsize=(10,7))\n",
    "plt.plot(thresholds_lg, precisions_lg[:-1], 'b--', label='precision')\n",
    "plt.plot(thresholds_lg, recalls_lg[:-1], 'g--', label = 'recall')\n",
    "plt.xlabel('Threshold')\n",
    "plt.legend(loc='upper left')\n",
    "plt.ylim([0,1])\n",
    "plt.show()"
   ]
  },
  {
   "cell_type": "markdown",
   "id": "supported-series",
   "metadata": {
    "id": "supported-series"
   },
   "source": [
    "**Observations**\n",
    "- precision and recall are balanced for a threshold of about ~0.42"
   ]
  },
  {
   "cell_type": "code",
   "execution_count": null,
   "id": "d7b91829",
   "metadata": {},
   "outputs": [],
   "source": []
  },
  {
   "cell_type": "code",
   "execution_count": null,
   "id": "brown-advertiser",
   "metadata": {
    "id": "brown-advertiser"
   },
   "outputs": [],
   "source": [
    "# Setting the optimal threshold\n",
    "optimal_threshold = 0.42"
   ]
  },
  {
   "cell_type": "markdown",
   "id": "environmental-surface",
   "metadata": {
    "id": "environmental-surface"
   },
   "source": [
    "#### **4.4: Check the performance of the model on train and test data using the optimal threshold.**"
   ]
  },
  {
   "cell_type": "code",
   "execution_count": null,
   "id": "mental-albany",
   "metadata": {
    "id": "mental-albany"
   },
   "outputs": [],
   "source": [
    "# Creating confusion matrix\n",
    "y_pred_train = lg.predict_proba(X_train)\n",
    "metrics_score(y_train, y_pred_train[:,1]>optimal_threshold)"
   ]
  },
  {
   "cell_type": "markdown",
   "id": "indoor-equity",
   "metadata": {
    "id": "indoor-equity"
   },
   "source": [
    "**Observations:**\n",
    "- recall has increased from 0.60 to 0.68 for class 1\n",
    "- recall has decreased slightly from 0.90 to 0.85 for class 2"
   ]
  },
  {
   "cell_type": "markdown",
   "id": "xK2YZU-oYwnr",
   "metadata": {
    "id": "xK2YZU-oYwnr"
   },
   "source": [
    "Let's check the performance on the test set"
   ]
  },
  {
   "cell_type": "code",
   "execution_count": null,
   "id": "needed-trial",
   "metadata": {
    "id": "needed-trial"
   },
   "outputs": [],
   "source": [
    "y_pred_test = lg.predict_proba(X_test)\n",
    "metrics_score(y_test, y_pred_test[:,1]>optimal_threshold)"
   ]
  },
  {
   "cell_type": "markdown",
   "id": "virgin-polls",
   "metadata": {
    "id": "virgin-polls"
   },
   "source": [
    "**Observations:**\n",
    "\n",
    "- The model is demonstrates similar performance on the test and training data.\n",
    "- The recall of the test data has increased somewhat, from 0.60 to 0.67. while at the same time, the precision has decreased from 0.73 to 0.68.\n",
    "- The average recall and precision for the model remain good but not great. \n"
   ]
  },
  {
   "cell_type": "markdown",
   "id": "wUzMsUCeIPaw",
   "metadata": {
    "id": "wUzMsUCeIPaw"
   },
   "source": [
    "## **Happy Learning!**"
   ]
  },
  {
   "cell_type": "code",
   "execution_count": null,
   "id": "f9e89e0d",
   "metadata": {},
   "outputs": [],
   "source": []
  }
 ],
 "metadata": {
  "colab": {
   "collapsed_sections": [],
   "name": "CHT_Graded_Project-Learner-Notebook",
   "provenance": []
  },
  "kernelspec": {
   "display_name": "Python 3 (ipykernel)",
   "language": "python",
   "name": "python3"
  },
  "language_info": {
   "codemirror_mode": {
    "name": "ipython",
    "version": 3
   },
   "file_extension": ".py",
   "mimetype": "text/x-python",
   "name": "python",
   "nbconvert_exporter": "python",
   "pygments_lexer": "ipython3",
   "version": "3.10.9"
  }
 },
 "nbformat": 4,
 "nbformat_minor": 5
}
